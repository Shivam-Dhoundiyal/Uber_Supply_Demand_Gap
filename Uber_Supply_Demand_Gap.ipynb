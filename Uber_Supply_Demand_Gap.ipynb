{
 "cells": [
  {
   "cell_type": "code",
   "execution_count": 73,
   "metadata": {
    "id": "I1apcow5dxii"
   },
   "outputs": [],
   "source": [
    "##### **Project Name**     - Uber Supply-Demand Gap Analysis  \n",
    "##### **Project Type**     - Exploratory Data Analysis (EDA)  \n",
    "##### **Contribution**     - Individual  \n",
    "##### **Team Member**      - Shivam Dhoundiyal\n"
   ]
  },
  {
   "cell_type": "markdown",
   "metadata": {
    "id": "vncDsAP0Gaoa"
   },
   "source": [
    "# **Project Name**    -\n",
    "\n"
   ]
  },
  {
   "cell_type": "markdown",
   "metadata": {
    "id": "beRrZCGUAJYm"
   },
   "source": [
    "##### **Project Name**     - Uber Supply-Demand Gap Analysis  \n",
    "##### **Project Type**     - Exploratory Data Analysis (EDA)  \n",
    "##### **Contribution**     - Individual  \n",
    "##### **Team Member**      - Shivam Dhoundiyal\n"
   ]
  },
  {
   "cell_type": "markdown",
   "metadata": {
    "id": "FJNUwmbgGyua"
   },
   "source": [
    "# **Project Summary -**"
   ]
  },
  {
   "cell_type": "markdown",
   "metadata": {
    "id": "F6v_1wHtG2nS"
   },
   "source": [
    "This project analyzes the **Uber Supply-Demand Gap** using real-world trip request data. The objective is to identify when and where demand exceeds supply, and understand the reasons for trip failures (e.g., cancellations or no cars available).\n",
    "\n",
    "**Steps Performed:**\n",
    "\n",
    "* Cleaned and standardized timestamp formats using `pd.to_datetime()`\n",
    "* Handled missing values and removed duplicates\n",
    "* Created new features: `Request Hour`, `Request Day`, `Gap Status`\n",
    "* Visualized request distribution by hour and day\n",
    "* Analyzed supply-demand patterns using bar plots, line charts, and heatmaps\n",
    "* Identified peak hours with the highest gaps and pickup points with the most issues\n",
    "\n",
    "**Key Insights:**\n",
    "\n",
    "* Most unfulfilled requests occurred during morning (5–10 AM) and evening (5–9 PM) rush hours\n",
    "* The **Airport** pickup point had a higher rate of failed trips\n",
    "* **Driver unavailability** was the leading cause of the supply-demand gap\n",
    "\n",
    "**Tools Used:** Python (Pandas, Seaborn, Matplotlib)\n",
    "\n",
    "---\n"
   ]
  },
  {
   "cell_type": "markdown",
   "metadata": {
    "id": "w6K7xa23Elo4"
   },
   "source": [
    "# **GitHub Link -**"
   ]
  },
  {
   "cell_type": "markdown",
   "metadata": {
    "id": "h1o69JH3Eqqn"
   },
   "source": [
    "Provide your GitHub Link here."
   ]
  },
  {
   "cell_type": "markdown",
   "metadata": {
    "id": "yQaldy8SH6Dl"
   },
   "source": [
    "# **Problem Statement**\n"
   ]
  },
  {
   "cell_type": "markdown",
   "metadata": {
    "id": "DpeJGUA3kjGy"
   },
   "source": [
    "Uber is experiencing a mismatch between ride requests and driver availability, especially during peak hours. This leads to a high number of unfulfilled trip requests, either due to driver cancellations or no cars being available. The goal of this project is to analyze the request data, identify patterns in supply-demand gaps by time and pickup location, and derive actionable insights to improve operational efficiency and reduce missed trip opportunities.\n"
   ]
  },
  {
   "cell_type": "markdown",
   "metadata": {
    "id": "PH-0ReGfmX4f"
   },
   "source": [
    "#### 🎯 Define Your Business Objective\n",
    "\n",
    "The objective of this project is to assist Uber in understanding the root causes of supply-demand imbalances by analyzing request data across different time slots and locations. By identifying peak hours of unmet demand and common failure reasons, the analysis aims to provide actionable insights that can help Uber optimize driver allocation, reduce failed trip requests, and enhance overall customer satisfaction.\n"
   ]
  },
  {
   "cell_type": "markdown",
   "metadata": {
    "id": "PhDvGCAqmjP1"
   },
   "source": [
    "#### ✅ Answer Here\n",
    "\n",
    "To address the business problem, this project performs a detailed Exploratory Data Analysis (EDA) on Uber’s ride request data. The goal is to uncover when and where the supply-demand gap is the highest, and what factors contribute to unfulfilled trips. Using data visualization and feature engineering, we identify peak hours, gap trends, and location-specific issues, enabling Uber to take informed decisions on driver deployment and demand management.\n"
   ]
  },
  {
   "cell_type": "markdown",
   "metadata": {
    "id": "mDgbUHAGgjLW"
   },
   "source": [
    "# **General Guidelines** : -  "
   ]
  },
  {
   "cell_type": "markdown",
   "metadata": {
    "id": "ZrxVaUj-hHfC"
   },
   "source": [
    "1.   Well-structured, formatted, and commented code is required.\n",
    "2.   Exception Handling, Production Grade Code & Deployment Ready Code will be a plus. Those students will be awarded some additional credits.\n",
    "     \n",
    "     The additional credits will have advantages over other students during Star Student selection.\n",
    "       \n",
    "             [ Note: - Deployment Ready Code is defined as, the whole .ipynb notebook should be executable in one go\n",
    "                       without a single error logged. ]\n",
    "\n",
    "3.   Each and every logic should have proper comments.\n",
    "4. You may add as many number of charts you want. Make Sure for each and every chart the following format should be answered.\n",
    "        \n",
    "\n",
    "```\n",
    "# Chart visualization code\n",
    "```\n",
    "            \n",
    "\n",
    "*   Why did you pick the specific chart?\n",
    "*   What is/are the insight(s) found from the chart?\n",
    "* Will the gained insights help creating a positive business impact?\n",
    "Are there any insights that lead to negative growth? Justify with specific reason.\n",
    "\n",
    "5. You have to create at least 20 logical & meaningful charts having important insights.\n",
    "\n",
    "\n",
    "[ Hints : - Do the Vizualization in  a structured way while following \"UBM\" Rule.\n",
    "\n",
    "U - Univariate Analysis,\n",
    "\n",
    "B - Bivariate Analysis (Numerical - Categorical, Numerical - Numerical, Categorical - Categorical)\n",
    "\n",
    "M - Multivariate Analysis\n",
    " ]\n",
    "\n",
    "\n",
    "\n"
   ]
  },
  {
   "cell_type": "markdown",
   "metadata": {
    "id": "O_i_v8NEhb9l"
   },
   "source": [
    "# ***Let's Begin !***"
   ]
  },
  {
   "cell_type": "markdown",
   "metadata": {
    "id": "HhfV-JJviCcP"
   },
   "source": [
    "## ***1. Know Your Data***"
   ]
  },
  {
   "cell_type": "markdown",
   "metadata": {
    "id": "Y3lxredqlCYt"
   },
   "source": [
    "### Import Libraries"
   ]
  },
  {
   "cell_type": "code",
   "execution_count": 74,
   "metadata": {
    "id": "M8Vqi-pPk-HR"
   },
   "outputs": [
    {
     "name": "stdout",
     "output_type": "stream",
     "text": [
      "Requirement already satisfied: numpy in c:\\users\\shivam\\appdata\\local\\programs\\python\\python313\\lib\\site-packages (2.3.1)\n",
      "Requirement already satisfied: panda in c:\\users\\shivam\\appdata\\local\\programs\\python\\python313\\lib\\site-packages (0.3.1)\n",
      "Requirement already satisfied: setuptools in c:\\users\\shivam\\appdata\\local\\programs\\python\\python313\\lib\\site-packages (from panda) (80.9.0)\n",
      "Requirement already satisfied: requests in c:\\users\\shivam\\appdata\\local\\programs\\python\\python313\\lib\\site-packages (from panda) (2.32.4)\n",
      "Requirement already satisfied: charset_normalizer<4,>=2 in c:\\users\\shivam\\appdata\\local\\programs\\python\\python313\\lib\\site-packages (from requests->panda) (3.4.2)\n",
      "Requirement already satisfied: idna<4,>=2.5 in c:\\users\\shivam\\appdata\\local\\programs\\python\\python313\\lib\\site-packages (from requests->panda) (3.10)\n",
      "Requirement already satisfied: urllib3<3,>=1.21.1 in c:\\users\\shivam\\appdata\\local\\programs\\python\\python313\\lib\\site-packages (from requests->panda) (2.5.0)\n",
      "Requirement already satisfied: certifi>=2017.4.17 in c:\\users\\shivam\\appdata\\local\\programs\\python\\python313\\lib\\site-packages (from requests->panda) (2025.7.9)\n",
      "Requirement already satisfied: matplotlib in c:\\users\\shivam\\appdata\\local\\programs\\python\\python313\\lib\\site-packages (3.10.3)\n",
      "Requirement already satisfied: contourpy>=1.0.1 in c:\\users\\shivam\\appdata\\local\\programs\\python\\python313\\lib\\site-packages (from matplotlib) (1.3.2)\n",
      "Requirement already satisfied: cycler>=0.10 in c:\\users\\shivam\\appdata\\local\\programs\\python\\python313\\lib\\site-packages (from matplotlib) (0.12.1)\n",
      "Requirement already satisfied: fonttools>=4.22.0 in c:\\users\\shivam\\appdata\\local\\programs\\python\\python313\\lib\\site-packages (from matplotlib) (4.58.5)\n",
      "Requirement already satisfied: kiwisolver>=1.3.1 in c:\\users\\shivam\\appdata\\local\\programs\\python\\python313\\lib\\site-packages (from matplotlib) (1.4.8)\n",
      "Requirement already satisfied: numpy>=1.23 in c:\\users\\shivam\\appdata\\local\\programs\\python\\python313\\lib\\site-packages (from matplotlib) (2.3.1)\n",
      "Requirement already satisfied: packaging>=20.0 in c:\\users\\shivam\\appdata\\local\\programs\\python\\python313\\lib\\site-packages (from matplotlib) (25.0)\n",
      "Requirement already satisfied: pillow>=8 in c:\\users\\shivam\\appdata\\local\\programs\\python\\python313\\lib\\site-packages (from matplotlib) (11.3.0)\n",
      "Requirement already satisfied: pyparsing>=2.3.1 in c:\\users\\shivam\\appdata\\local\\programs\\python\\python313\\lib\\site-packages (from matplotlib) (3.2.3)\n",
      "Requirement already satisfied: python-dateutil>=2.7 in c:\\users\\shivam\\appdata\\local\\programs\\python\\python313\\lib\\site-packages (from matplotlib) (2.9.0.post0)\n",
      "Requirement already satisfied: six>=1.5 in c:\\users\\shivam\\appdata\\local\\programs\\python\\python313\\lib\\site-packages (from python-dateutil>=2.7->matplotlib) (1.17.0)\n",
      "Requirement already satisfied: seaborn in c:\\users\\shivam\\appdata\\local\\programs\\python\\python313\\lib\\site-packages (0.13.2)\n",
      "Requirement already satisfied: numpy!=1.24.0,>=1.20 in c:\\users\\shivam\\appdata\\local\\programs\\python\\python313\\lib\\site-packages (from seaborn) (2.3.1)\n",
      "Requirement already satisfied: pandas>=1.2 in c:\\users\\shivam\\appdata\\local\\programs\\python\\python313\\lib\\site-packages (from seaborn) (2.3.1)\n",
      "Requirement already satisfied: matplotlib!=3.6.1,>=3.4 in c:\\users\\shivam\\appdata\\local\\programs\\python\\python313\\lib\\site-packages (from seaborn) (3.10.3)\n",
      "Requirement already satisfied: contourpy>=1.0.1 in c:\\users\\shivam\\appdata\\local\\programs\\python\\python313\\lib\\site-packages (from matplotlib!=3.6.1,>=3.4->seaborn) (1.3.2)\n",
      "Requirement already satisfied: cycler>=0.10 in c:\\users\\shivam\\appdata\\local\\programs\\python\\python313\\lib\\site-packages (from matplotlib!=3.6.1,>=3.4->seaborn) (0.12.1)\n",
      "Requirement already satisfied: fonttools>=4.22.0 in c:\\users\\shivam\\appdata\\local\\programs\\python\\python313\\lib\\site-packages (from matplotlib!=3.6.1,>=3.4->seaborn) (4.58.5)\n",
      "Requirement already satisfied: kiwisolver>=1.3.1 in c:\\users\\shivam\\appdata\\local\\programs\\python\\python313\\lib\\site-packages (from matplotlib!=3.6.1,>=3.4->seaborn) (1.4.8)\n",
      "Requirement already satisfied: packaging>=20.0 in c:\\users\\shivam\\appdata\\local\\programs\\python\\python313\\lib\\site-packages (from matplotlib!=3.6.1,>=3.4->seaborn) (25.0)\n",
      "Requirement already satisfied: pillow>=8 in c:\\users\\shivam\\appdata\\local\\programs\\python\\python313\\lib\\site-packages (from matplotlib!=3.6.1,>=3.4->seaborn) (11.3.0)\n",
      "Requirement already satisfied: pyparsing>=2.3.1 in c:\\users\\shivam\\appdata\\local\\programs\\python\\python313\\lib\\site-packages (from matplotlib!=3.6.1,>=3.4->seaborn) (3.2.3)\n",
      "Requirement already satisfied: python-dateutil>=2.7 in c:\\users\\shivam\\appdata\\local\\programs\\python\\python313\\lib\\site-packages (from matplotlib!=3.6.1,>=3.4->seaborn) (2.9.0.post0)\n",
      "Requirement already satisfied: pytz>=2020.1 in c:\\users\\shivam\\appdata\\local\\programs\\python\\python313\\lib\\site-packages (from pandas>=1.2->seaborn) (2025.2)\n",
      "Requirement already satisfied: tzdata>=2022.7 in c:\\users\\shivam\\appdata\\local\\programs\\python\\python313\\lib\\site-packages (from pandas>=1.2->seaborn) (2025.2)\n",
      "Requirement already satisfied: six>=1.5 in c:\\users\\shivam\\appdata\\local\\programs\\python\\python313\\lib\\site-packages (from python-dateutil>=2.7->matplotlib!=3.6.1,>=3.4->seaborn) (1.17.0)\n"
     ]
    }
   ],
   "source": [
    "!pip install numpy\n",
    "!pip install panda\n",
    "!pip install matplotlib\n",
    "!pip install seaborn\n",
    "\n"
   ]
  },
  {
   "cell_type": "markdown",
   "metadata": {
    "id": "3RnN4peoiCZX"
   },
   "source": [
    "### Dataset Loading"
   ]
  },
  {
   "cell_type": "code",
   "execution_count": 75,
   "metadata": {
    "id": "4CkvbW_SlZ_R"
   },
   "outputs": [
    {
     "data": {
      "text/html": [
       "<div>\n",
       "<style scoped>\n",
       "    .dataframe tbody tr th:only-of-type {\n",
       "        vertical-align: middle;\n",
       "    }\n",
       "\n",
       "    .dataframe tbody tr th {\n",
       "        vertical-align: top;\n",
       "    }\n",
       "\n",
       "    .dataframe thead th {\n",
       "        text-align: right;\n",
       "    }\n",
       "</style>\n",
       "<table border=\"1\" class=\"dataframe\">\n",
       "  <thead>\n",
       "    <tr style=\"text-align: right;\">\n",
       "      <th></th>\n",
       "      <th>Request id</th>\n",
       "      <th>Pickup point</th>\n",
       "      <th>Driver id</th>\n",
       "      <th>Status</th>\n",
       "      <th>Request timestamp</th>\n",
       "      <th>Drop timestamp</th>\n",
       "    </tr>\n",
       "  </thead>\n",
       "  <tbody>\n",
       "    <tr>\n",
       "      <th>0</th>\n",
       "      <td>619</td>\n",
       "      <td>Airport</td>\n",
       "      <td>1.0</td>\n",
       "      <td>Trip Completed</td>\n",
       "      <td>11/7/2016 11:51</td>\n",
       "      <td>11/7/2016 13:00</td>\n",
       "    </tr>\n",
       "    <tr>\n",
       "      <th>1</th>\n",
       "      <td>867</td>\n",
       "      <td>Airport</td>\n",
       "      <td>1.0</td>\n",
       "      <td>Trip Completed</td>\n",
       "      <td>11/7/2016 17:57</td>\n",
       "      <td>11/7/2016 18:47</td>\n",
       "    </tr>\n",
       "    <tr>\n",
       "      <th>2</th>\n",
       "      <td>1807</td>\n",
       "      <td>City</td>\n",
       "      <td>1.0</td>\n",
       "      <td>Trip Completed</td>\n",
       "      <td>12/7/2016 9:17</td>\n",
       "      <td>12/7/2016 9:58</td>\n",
       "    </tr>\n",
       "    <tr>\n",
       "      <th>3</th>\n",
       "      <td>2532</td>\n",
       "      <td>Airport</td>\n",
       "      <td>1.0</td>\n",
       "      <td>Trip Completed</td>\n",
       "      <td>12/7/2016 21:08</td>\n",
       "      <td>12/7/2016 22:03</td>\n",
       "    </tr>\n",
       "    <tr>\n",
       "      <th>4</th>\n",
       "      <td>3112</td>\n",
       "      <td>City</td>\n",
       "      <td>1.0</td>\n",
       "      <td>Trip Completed</td>\n",
       "      <td>13-07-2016 08:33:16</td>\n",
       "      <td>13-07-2016 09:25:47</td>\n",
       "    </tr>\n",
       "  </tbody>\n",
       "</table>\n",
       "</div>"
      ],
      "text/plain": [
       "   Request id Pickup point  Driver id          Status    Request timestamp  \\\n",
       "0         619      Airport        1.0  Trip Completed      11/7/2016 11:51   \n",
       "1         867      Airport        1.0  Trip Completed      11/7/2016 17:57   \n",
       "2        1807         City        1.0  Trip Completed       12/7/2016 9:17   \n",
       "3        2532      Airport        1.0  Trip Completed      12/7/2016 21:08   \n",
       "4        3112         City        1.0  Trip Completed  13-07-2016 08:33:16   \n",
       "\n",
       "        Drop timestamp  \n",
       "0      11/7/2016 13:00  \n",
       "1      11/7/2016 18:47  \n",
       "2       12/7/2016 9:58  \n",
       "3      12/7/2016 22:03  \n",
       "4  13-07-2016 09:25:47  "
      ]
     },
     "execution_count": 75,
     "metadata": {},
     "output_type": "execute_result"
    }
   ],
   "source": [
    "import pandas as pd\n",
    "\n",
    "# Load dataset using raw string path\n",
    "df = pd.read_csv(\"Uber Request Data (1).csv\")\n",
    "\n",
    "# Preview first few rows\n",
    "df.head()\n"
   ]
  },
  {
   "cell_type": "markdown",
   "metadata": {
    "id": "x71ZqKXriCWQ"
   },
   "source": [
    "### Dataset First View\n",
    "# Display first 5 rows\n",
    "df.head()\n",
    "\n",
    "# Display last 5 rows\n",
    "df.tail()\n",
    "\n",
    "# Dataset shape\n",
    "print(f\"✅ Total Rows: {df.shape[0]}\")\n",
    "print(f\"✅ Total Columns: {df.shape[1]}\")\n",
    "\n",
    "# Column names\n",
    "print(\"\\n🧾 Columns:\")\n",
    "print(df.columns.tolist())\n"
   ]
  },
  {
   "cell_type": "code",
   "execution_count": 76,
   "metadata": {
    "id": "LWNFOSvLl09H"
   },
   "outputs": [
    {
     "name": "stdout",
     "output_type": "stream",
     "text": [
      "🔹 First 5 Rows:\n"
     ]
    },
    {
     "data": {
      "text/html": [
       "<div>\n",
       "<style scoped>\n",
       "    .dataframe tbody tr th:only-of-type {\n",
       "        vertical-align: middle;\n",
       "    }\n",
       "\n",
       "    .dataframe tbody tr th {\n",
       "        vertical-align: top;\n",
       "    }\n",
       "\n",
       "    .dataframe thead th {\n",
       "        text-align: right;\n",
       "    }\n",
       "</style>\n",
       "<table border=\"1\" class=\"dataframe\">\n",
       "  <thead>\n",
       "    <tr style=\"text-align: right;\">\n",
       "      <th></th>\n",
       "      <th>Request id</th>\n",
       "      <th>Pickup point</th>\n",
       "      <th>Driver id</th>\n",
       "      <th>Status</th>\n",
       "      <th>Request timestamp</th>\n",
       "      <th>Drop timestamp</th>\n",
       "    </tr>\n",
       "  </thead>\n",
       "  <tbody>\n",
       "    <tr>\n",
       "      <th>0</th>\n",
       "      <td>619</td>\n",
       "      <td>Airport</td>\n",
       "      <td>1.0</td>\n",
       "      <td>Trip Completed</td>\n",
       "      <td>11/7/2016 11:51</td>\n",
       "      <td>11/7/2016 13:00</td>\n",
       "    </tr>\n",
       "    <tr>\n",
       "      <th>1</th>\n",
       "      <td>867</td>\n",
       "      <td>Airport</td>\n",
       "      <td>1.0</td>\n",
       "      <td>Trip Completed</td>\n",
       "      <td>11/7/2016 17:57</td>\n",
       "      <td>11/7/2016 18:47</td>\n",
       "    </tr>\n",
       "    <tr>\n",
       "      <th>2</th>\n",
       "      <td>1807</td>\n",
       "      <td>City</td>\n",
       "      <td>1.0</td>\n",
       "      <td>Trip Completed</td>\n",
       "      <td>12/7/2016 9:17</td>\n",
       "      <td>12/7/2016 9:58</td>\n",
       "    </tr>\n",
       "    <tr>\n",
       "      <th>3</th>\n",
       "      <td>2532</td>\n",
       "      <td>Airport</td>\n",
       "      <td>1.0</td>\n",
       "      <td>Trip Completed</td>\n",
       "      <td>12/7/2016 21:08</td>\n",
       "      <td>12/7/2016 22:03</td>\n",
       "    </tr>\n",
       "    <tr>\n",
       "      <th>4</th>\n",
       "      <td>3112</td>\n",
       "      <td>City</td>\n",
       "      <td>1.0</td>\n",
       "      <td>Trip Completed</td>\n",
       "      <td>13-07-2016 08:33:16</td>\n",
       "      <td>13-07-2016 09:25:47</td>\n",
       "    </tr>\n",
       "  </tbody>\n",
       "</table>\n",
       "</div>"
      ],
      "text/plain": [
       "   Request id Pickup point  Driver id          Status    Request timestamp  \\\n",
       "0         619      Airport        1.0  Trip Completed      11/7/2016 11:51   \n",
       "1         867      Airport        1.0  Trip Completed      11/7/2016 17:57   \n",
       "2        1807         City        1.0  Trip Completed       12/7/2016 9:17   \n",
       "3        2532      Airport        1.0  Trip Completed      12/7/2016 21:08   \n",
       "4        3112         City        1.0  Trip Completed  13-07-2016 08:33:16   \n",
       "\n",
       "        Drop timestamp  \n",
       "0      11/7/2016 13:00  \n",
       "1      11/7/2016 18:47  \n",
       "2       12/7/2016 9:58  \n",
       "3      12/7/2016 22:03  \n",
       "4  13-07-2016 09:25:47  "
      ]
     },
     "metadata": {},
     "output_type": "display_data"
    },
    {
     "name": "stdout",
     "output_type": "stream",
     "text": [
      "🔹 Last 5 Rows:\n"
     ]
    },
    {
     "data": {
      "text/html": [
       "<div>\n",
       "<style scoped>\n",
       "    .dataframe tbody tr th:only-of-type {\n",
       "        vertical-align: middle;\n",
       "    }\n",
       "\n",
       "    .dataframe tbody tr th {\n",
       "        vertical-align: top;\n",
       "    }\n",
       "\n",
       "    .dataframe thead th {\n",
       "        text-align: right;\n",
       "    }\n",
       "</style>\n",
       "<table border=\"1\" class=\"dataframe\">\n",
       "  <thead>\n",
       "    <tr style=\"text-align: right;\">\n",
       "      <th></th>\n",
       "      <th>Request id</th>\n",
       "      <th>Pickup point</th>\n",
       "      <th>Driver id</th>\n",
       "      <th>Status</th>\n",
       "      <th>Request timestamp</th>\n",
       "      <th>Drop timestamp</th>\n",
       "    </tr>\n",
       "  </thead>\n",
       "  <tbody>\n",
       "    <tr>\n",
       "      <th>6740</th>\n",
       "      <td>6745</td>\n",
       "      <td>City</td>\n",
       "      <td>NaN</td>\n",
       "      <td>No Cars Available</td>\n",
       "      <td>15-07-2016 23:49:03</td>\n",
       "      <td>NaN</td>\n",
       "    </tr>\n",
       "    <tr>\n",
       "      <th>6741</th>\n",
       "      <td>6752</td>\n",
       "      <td>Airport</td>\n",
       "      <td>NaN</td>\n",
       "      <td>No Cars Available</td>\n",
       "      <td>15-07-2016 23:50:05</td>\n",
       "      <td>NaN</td>\n",
       "    </tr>\n",
       "    <tr>\n",
       "      <th>6742</th>\n",
       "      <td>6751</td>\n",
       "      <td>City</td>\n",
       "      <td>NaN</td>\n",
       "      <td>No Cars Available</td>\n",
       "      <td>15-07-2016 23:52:06</td>\n",
       "      <td>NaN</td>\n",
       "    </tr>\n",
       "    <tr>\n",
       "      <th>6743</th>\n",
       "      <td>6754</td>\n",
       "      <td>City</td>\n",
       "      <td>NaN</td>\n",
       "      <td>No Cars Available</td>\n",
       "      <td>15-07-2016 23:54:39</td>\n",
       "      <td>NaN</td>\n",
       "    </tr>\n",
       "    <tr>\n",
       "      <th>6744</th>\n",
       "      <td>6753</td>\n",
       "      <td>Airport</td>\n",
       "      <td>NaN</td>\n",
       "      <td>No Cars Available</td>\n",
       "      <td>15-07-2016 23:55:03</td>\n",
       "      <td>NaN</td>\n",
       "    </tr>\n",
       "  </tbody>\n",
       "</table>\n",
       "</div>"
      ],
      "text/plain": [
       "      Request id Pickup point  Driver id             Status  \\\n",
       "6740        6745         City        NaN  No Cars Available   \n",
       "6741        6752      Airport        NaN  No Cars Available   \n",
       "6742        6751         City        NaN  No Cars Available   \n",
       "6743        6754         City        NaN  No Cars Available   \n",
       "6744        6753      Airport        NaN  No Cars Available   \n",
       "\n",
       "        Request timestamp Drop timestamp  \n",
       "6740  15-07-2016 23:49:03            NaN  \n",
       "6741  15-07-2016 23:50:05            NaN  \n",
       "6742  15-07-2016 23:52:06            NaN  \n",
       "6743  15-07-2016 23:54:39            NaN  \n",
       "6744  15-07-2016 23:55:03            NaN  "
      ]
     },
     "metadata": {},
     "output_type": "display_data"
    },
    {
     "name": "stdout",
     "output_type": "stream",
     "text": [
      "\n",
      "✅ Number of Rows: 6745\n",
      "✅ Number of Columns: 6\n",
      "\n",
      "📋 Column Names:\n",
      "['Request id', 'Pickup point', 'Driver id', 'Status', 'Request timestamp', 'Drop timestamp']\n",
      "\n",
      "🔎 Data Info:\n",
      "<class 'pandas.core.frame.DataFrame'>\n",
      "RangeIndex: 6745 entries, 0 to 6744\n",
      "Data columns (total 6 columns):\n",
      " #   Column             Non-Null Count  Dtype  \n",
      "---  ------             --------------  -----  \n",
      " 0   Request id         6745 non-null   int64  \n",
      " 1   Pickup point       6745 non-null   object \n",
      " 2   Driver id          4095 non-null   float64\n",
      " 3   Status             6745 non-null   object \n",
      " 4   Request timestamp  6745 non-null   object \n",
      " 5   Drop timestamp     2831 non-null   object \n",
      "dtypes: float64(1), int64(1), object(4)\n",
      "memory usage: 316.3+ KB\n"
     ]
    }
   ],
   "source": [
    "# 📌 Dataset First Look\n",
    "\n",
    "# First 5 records\n",
    "print(\"🔹 First 5 Rows:\")\n",
    "display(df.head())\n",
    "\n",
    "# Last 5 records\n",
    "print(\"🔹 Last 5 Rows:\")\n",
    "display(df.tail())\n",
    "\n",
    "# Dataset shape\n",
    "print(f\"\\n✅ Number of Rows: {df.shape[0]}\")\n",
    "print(f\"✅ Number of Columns: {df.shape[1]}\")\n",
    "\n",
    "# Column names\n",
    "print(\"\\n📋 Column Names:\")\n",
    "print(df.columns.tolist())\n",
    "\n",
    "# Data types and null values\n",
    "print(\"\\n🔎 Data Info:\")\n",
    "df.info()\n"
   ]
  },
  {
   "cell_type": "markdown",
   "metadata": {
    "id": "7hBIi_osiCS2"
   },
   "source": [
    "### Dataset Rows & Columns count"
   ]
  },
  {
   "cell_type": "code",
   "execution_count": 77,
   "metadata": {
    "id": "Kllu7SJgmLij"
   },
   "outputs": [
    {
     "name": "stdout",
     "output_type": "stream",
     "text": [
      "📦 Total Rows: 6745\n",
      "📊 Total Columns: 6\n"
     ]
    }
   ],
   "source": [
    "# Dataset Rows & Columns count\n",
    "# ✅ Dataset Rows & Columns Count\n",
    "\n",
    "rows = df.shape[0]\n",
    "columns = df.shape[1]\n",
    "\n",
    "print(f\"📦 Total Rows: {rows}\")\n",
    "print(f\"📊 Total Columns: {columns}\")\n"
   ]
  },
  {
   "cell_type": "markdown",
   "metadata": {
    "id": "JlHwYmJAmNHm"
   },
   "source": [
    "### Dataset Information"
   ]
  },
  {
   "cell_type": "code",
   "execution_count": 78,
   "metadata": {
    "id": "e9hRXRi6meOf"
   },
   "outputs": [
    {
     "name": "stdout",
     "output_type": "stream",
     "text": [
      "<class 'pandas.core.frame.DataFrame'>\n",
      "RangeIndex: 6745 entries, 0 to 6744\n",
      "Data columns (total 6 columns):\n",
      " #   Column             Non-Null Count  Dtype  \n",
      "---  ------             --------------  -----  \n",
      " 0   Request id         6745 non-null   int64  \n",
      " 1   Pickup point       6745 non-null   object \n",
      " 2   Driver id          4095 non-null   float64\n",
      " 3   Status             6745 non-null   object \n",
      " 4   Request timestamp  6745 non-null   object \n",
      " 5   Drop timestamp     2831 non-null   object \n",
      "dtypes: float64(1), int64(1), object(4)\n",
      "memory usage: 316.3+ KB\n"
     ]
    }
   ],
   "source": [
    "# Dataset Info\n",
    "# 🔎 Dataset Info\n",
    "\n",
    "# View structure, column types, and non-null counts\n",
    "df.info()\n"
   ]
  },
  {
   "cell_type": "markdown",
   "metadata": {
    "id": "35m5QtbWiB9F"
   },
   "source": [
    "#### Duplicate Values"
   ]
  },
  {
   "cell_type": "code",
   "execution_count": 79,
   "metadata": {
    "id": "1sLdpKYkmox0"
   },
   "outputs": [
    {
     "name": "stdout",
     "output_type": "stream",
     "text": [
      "🧯 Total Duplicate Rows: 0\n"
     ]
    }
   ],
   "source": [
    "# Dataset Duplicate Value Count\n",
    "# 🔁 Dataset Duplicate Value Count\n",
    "\n",
    "duplicate_count = df.duplicated().sum()\n",
    "print(f\"🧯 Total Duplicate Rows: {duplicate_count}\")\n"
   ]
  },
  {
   "cell_type": "markdown",
   "metadata": {
    "id": "PoPl-ycgm1ru"
   },
   "source": [
    "#### Missing Values/Null Values"
   ]
  },
  {
   "cell_type": "code",
   "execution_count": 80,
   "metadata": {
    "id": "GgHWkxvamxVg"
   },
   "outputs": [
    {
     "name": "stdout",
     "output_type": "stream",
     "text": [
      "🚨 Columns with Missing Values:\n",
      "\n",
      "Driver id         2650\n",
      "Drop timestamp    3914\n",
      "dtype: int64\n"
     ]
    }
   ],
   "source": [
    "# ❓ Missing Values / Null Values Count\n",
    "\n",
    "# Count of null values in each column\n",
    "missing_values = df.isnull().sum()\n",
    "\n",
    "# Display only columns with missing values\n",
    "missing_values = missing_values[missing_values > 0]\n",
    "\n",
    "# Print nicely\n",
    "if not missing_values.empty:\n",
    "    print(\"🚨 Columns with Missing Values:\\n\")\n",
    "    print(missing_values)\n",
    "else:\n",
    "    print(\"✅ No missing values found in the dataset.\")\n"
   ]
  },
  {
   "cell_type": "code",
   "execution_count": 81,
   "metadata": {
    "id": "3q5wnI3om9sJ"
   },
   "outputs": [],
   "source": [
    "# Visualizing the missing values"
   ]
  },
  {
   "cell_type": "markdown",
   "metadata": {
    "id": "H0kj-8xxnORC"
   },
   "source": [
    "### 📌 What did you know about your dataset?"
   ]
  },
  {
   "cell_type": "markdown",
   "metadata": {
    "id": "gfoNAAC-nUe_"
   },
   "source": [
    "- The dataset contains Uber ride requests made in a specific time frame.\n",
    "- It includes fields like request time, pickup point, driver ID, trip status, and drop time.\n",
    "- There are multiple trip statuses such as: `Trip Completed`, `Cancelled`, and `No Cars Available`.\n",
    "- Request timestamps are in mixed formats and required cleaning.\n",
    "- A large number of trip requests were not fulfilled, mostly due to unavailability of cars or cancellations.\n",
    "- The dataset needed feature engineering like `Request Hour`, `Request Day`, and `Gap Status` to extract patterns.\n"
   ]
  },
  {
   "cell_type": "markdown",
   "metadata": {
    "id": "nA9Y7ga8ng1Z"
   },
   "source": [
    "## 🔎 2. Understanding Your Variables"
   ]
  },
  {
   "cell_type": "code",
   "execution_count": 82,
   "metadata": {
    "id": "j7xfkqrt5Ag5"
   },
   "outputs": [
    {
     "name": "stdout",
     "output_type": "stream",
     "text": [
      "📘 List of Columns:\n",
      "\n",
      "- Request id\n",
      "- Pickup point\n",
      "- Driver id\n",
      "- Status\n",
      "- Request timestamp\n",
      "- Drop timestamp\n"
     ]
    }
   ],
   "source": [
    "# 📋 Dataset Columns\n",
    "print(\"📘 List of Columns:\\n\")\n",
    "for col in df.columns:\n",
    "    print(f\"- {col}\")"
   ]
  },
  {
   "cell_type": "code",
   "execution_count": 83,
   "metadata": {
    "id": "DnOaZdaE5Q5t"
   },
   "outputs": [
    {
     "name": "stdout",
     "output_type": "stream",
     "text": [
      "\n",
      "📊 Summary Statistics (Numerical Columns):\n"
     ]
    },
    {
     "data": {
      "text/html": [
       "<div>\n",
       "<style scoped>\n",
       "    .dataframe tbody tr th:only-of-type {\n",
       "        vertical-align: middle;\n",
       "    }\n",
       "\n",
       "    .dataframe tbody tr th {\n",
       "        vertical-align: top;\n",
       "    }\n",
       "\n",
       "    .dataframe thead th {\n",
       "        text-align: right;\n",
       "    }\n",
       "</style>\n",
       "<table border=\"1\" class=\"dataframe\">\n",
       "  <thead>\n",
       "    <tr style=\"text-align: right;\">\n",
       "      <th></th>\n",
       "      <th>Request id</th>\n",
       "      <th>Driver id</th>\n",
       "    </tr>\n",
       "  </thead>\n",
       "  <tbody>\n",
       "    <tr>\n",
       "      <th>count</th>\n",
       "      <td>6745.000000</td>\n",
       "      <td>4095.000000</td>\n",
       "    </tr>\n",
       "    <tr>\n",
       "      <th>mean</th>\n",
       "      <td>3384.644922</td>\n",
       "      <td>149.501343</td>\n",
       "    </tr>\n",
       "    <tr>\n",
       "      <th>std</th>\n",
       "      <td>1955.099667</td>\n",
       "      <td>86.051994</td>\n",
       "    </tr>\n",
       "    <tr>\n",
       "      <th>min</th>\n",
       "      <td>1.000000</td>\n",
       "      <td>1.000000</td>\n",
       "    </tr>\n",
       "    <tr>\n",
       "      <th>25%</th>\n",
       "      <td>1691.000000</td>\n",
       "      <td>75.000000</td>\n",
       "    </tr>\n",
       "    <tr>\n",
       "      <th>50%</th>\n",
       "      <td>3387.000000</td>\n",
       "      <td>149.000000</td>\n",
       "    </tr>\n",
       "    <tr>\n",
       "      <th>75%</th>\n",
       "      <td>5080.000000</td>\n",
       "      <td>224.000000</td>\n",
       "    </tr>\n",
       "    <tr>\n",
       "      <th>max</th>\n",
       "      <td>6766.000000</td>\n",
       "      <td>300.000000</td>\n",
       "    </tr>\n",
       "  </tbody>\n",
       "</table>\n",
       "</div>"
      ],
      "text/plain": [
       "        Request id    Driver id\n",
       "count  6745.000000  4095.000000\n",
       "mean   3384.644922   149.501343\n",
       "std    1955.099667    86.051994\n",
       "min       1.000000     1.000000\n",
       "25%    1691.000000    75.000000\n",
       "50%    3387.000000   149.000000\n",
       "75%    5080.000000   224.000000\n",
       "max    6766.000000   300.000000"
      ]
     },
     "metadata": {},
     "output_type": "display_data"
    },
    {
     "name": "stdout",
     "output_type": "stream",
     "text": [
      "\n",
      "📊 Summary Statistics (All Columns):\n"
     ]
    },
    {
     "data": {
      "text/html": [
       "<div>\n",
       "<style scoped>\n",
       "    .dataframe tbody tr th:only-of-type {\n",
       "        vertical-align: middle;\n",
       "    }\n",
       "\n",
       "    .dataframe tbody tr th {\n",
       "        vertical-align: top;\n",
       "    }\n",
       "\n",
       "    .dataframe thead th {\n",
       "        text-align: right;\n",
       "    }\n",
       "</style>\n",
       "<table border=\"1\" class=\"dataframe\">\n",
       "  <thead>\n",
       "    <tr style=\"text-align: right;\">\n",
       "      <th></th>\n",
       "      <th>Request id</th>\n",
       "      <th>Pickup point</th>\n",
       "      <th>Driver id</th>\n",
       "      <th>Status</th>\n",
       "      <th>Request timestamp</th>\n",
       "      <th>Drop timestamp</th>\n",
       "    </tr>\n",
       "  </thead>\n",
       "  <tbody>\n",
       "    <tr>\n",
       "      <th>count</th>\n",
       "      <td>6745.000000</td>\n",
       "      <td>6745</td>\n",
       "      <td>4095.000000</td>\n",
       "      <td>6745</td>\n",
       "      <td>6745</td>\n",
       "      <td>2831</td>\n",
       "    </tr>\n",
       "    <tr>\n",
       "      <th>unique</th>\n",
       "      <td>NaN</td>\n",
       "      <td>2</td>\n",
       "      <td>NaN</td>\n",
       "      <td>3</td>\n",
       "      <td>5618</td>\n",
       "      <td>2598</td>\n",
       "    </tr>\n",
       "    <tr>\n",
       "      <th>top</th>\n",
       "      <td>NaN</td>\n",
       "      <td>City</td>\n",
       "      <td>NaN</td>\n",
       "      <td>Trip Completed</td>\n",
       "      <td>11/7/2016 8:37</td>\n",
       "      <td>12/7/2016 6:22</td>\n",
       "    </tr>\n",
       "    <tr>\n",
       "      <th>freq</th>\n",
       "      <td>NaN</td>\n",
       "      <td>3507</td>\n",
       "      <td>NaN</td>\n",
       "      <td>2831</td>\n",
       "      <td>6</td>\n",
       "      <td>4</td>\n",
       "    </tr>\n",
       "    <tr>\n",
       "      <th>mean</th>\n",
       "      <td>3384.644922</td>\n",
       "      <td>NaN</td>\n",
       "      <td>149.501343</td>\n",
       "      <td>NaN</td>\n",
       "      <td>NaN</td>\n",
       "      <td>NaN</td>\n",
       "    </tr>\n",
       "    <tr>\n",
       "      <th>std</th>\n",
       "      <td>1955.099667</td>\n",
       "      <td>NaN</td>\n",
       "      <td>86.051994</td>\n",
       "      <td>NaN</td>\n",
       "      <td>NaN</td>\n",
       "      <td>NaN</td>\n",
       "    </tr>\n",
       "    <tr>\n",
       "      <th>min</th>\n",
       "      <td>1.000000</td>\n",
       "      <td>NaN</td>\n",
       "      <td>1.000000</td>\n",
       "      <td>NaN</td>\n",
       "      <td>NaN</td>\n",
       "      <td>NaN</td>\n",
       "    </tr>\n",
       "    <tr>\n",
       "      <th>25%</th>\n",
       "      <td>1691.000000</td>\n",
       "      <td>NaN</td>\n",
       "      <td>75.000000</td>\n",
       "      <td>NaN</td>\n",
       "      <td>NaN</td>\n",
       "      <td>NaN</td>\n",
       "    </tr>\n",
       "    <tr>\n",
       "      <th>50%</th>\n",
       "      <td>3387.000000</td>\n",
       "      <td>NaN</td>\n",
       "      <td>149.000000</td>\n",
       "      <td>NaN</td>\n",
       "      <td>NaN</td>\n",
       "      <td>NaN</td>\n",
       "    </tr>\n",
       "    <tr>\n",
       "      <th>75%</th>\n",
       "      <td>5080.000000</td>\n",
       "      <td>NaN</td>\n",
       "      <td>224.000000</td>\n",
       "      <td>NaN</td>\n",
       "      <td>NaN</td>\n",
       "      <td>NaN</td>\n",
       "    </tr>\n",
       "    <tr>\n",
       "      <th>max</th>\n",
       "      <td>6766.000000</td>\n",
       "      <td>NaN</td>\n",
       "      <td>300.000000</td>\n",
       "      <td>NaN</td>\n",
       "      <td>NaN</td>\n",
       "      <td>NaN</td>\n",
       "    </tr>\n",
       "  </tbody>\n",
       "</table>\n",
       "</div>"
      ],
      "text/plain": [
       "         Request id Pickup point    Driver id          Status  \\\n",
       "count   6745.000000         6745  4095.000000            6745   \n",
       "unique          NaN            2          NaN               3   \n",
       "top             NaN         City          NaN  Trip Completed   \n",
       "freq            NaN         3507          NaN            2831   \n",
       "mean    3384.644922          NaN   149.501343             NaN   \n",
       "std     1955.099667          NaN    86.051994             NaN   \n",
       "min        1.000000          NaN     1.000000             NaN   \n",
       "25%     1691.000000          NaN    75.000000             NaN   \n",
       "50%     3387.000000          NaN   149.000000             NaN   \n",
       "75%     5080.000000          NaN   224.000000             NaN   \n",
       "max     6766.000000          NaN   300.000000             NaN   \n",
       "\n",
       "       Request timestamp  Drop timestamp  \n",
       "count               6745            2831  \n",
       "unique              5618            2598  \n",
       "top       11/7/2016 8:37  12/7/2016 6:22  \n",
       "freq                   6               4  \n",
       "mean                 NaN             NaN  \n",
       "std                  NaN             NaN  \n",
       "min                  NaN             NaN  \n",
       "25%                  NaN             NaN  \n",
       "50%                  NaN             NaN  \n",
       "75%                  NaN             NaN  \n",
       "max                  NaN             NaN  "
      ]
     },
     "metadata": {},
     "output_type": "display_data"
    }
   ],
   "source": [
    "# 🧾 Dataset Description (Only Numerical Columns)\n",
    "print(\"\\n📊 Summary Statistics (Numerical Columns):\")\n",
    "display(df.describe())\n",
    "\n",
    "# 🧾 Summary for All Columns (including objects)\n",
    "print(\"\\n📊 Summary Statistics (All Columns):\")\n",
    "display(df.describe(include='all'))"
   ]
  },
  {
   "cell_type": "markdown",
   "metadata": {
    "id": "PBTbrJXOngz2"
   },
   "source": [
    "### 📌 Variables Description"
   ]
  },
  {
   "cell_type": "markdown",
   "metadata": {
    "id": "aJV4KIxSnxay"
   },
   "source": [
    "- **Request id**: Unique identifier for each ride request.\n",
    "- **Pickup point**: Location from where the customer requested the ride (`Airport` or `City`).\n",
    "- **Driver id**: Identifier for the driver assigned to the trip (can be missing for unassigned requests).\n",
    "- **Status**: Outcome of the request – `Trip Completed`, `Cancelled`, or `No Cars Available`.\n",
    "- **Request timestamp**: Date and time when the ride was requested.\n",
    "- **Drop timestamp**: Date and time when the trip ended (only available for completed trips).\n",
    "- **Request Hour**: Hour extracted from `Request timestamp` to analyze time-based trends.\n",
    "- **Request Day**: Day name (Monday, Tuesday, etc.) extracted from `Request timestamp`.\n",
    "- **Gap Status**: New column created to classify requests as `Fulfilled` or `Gap` (Cancelled / No Cars).\n"
   ]
  },
  {
   "cell_type": "markdown",
   "metadata": {
    "id": "u3PMJOP6ngxN"
   },
   "source": [
    "# 🔍 Check Unique Values for Each Column"
   ]
  },
  {
   "cell_type": "code",
   "execution_count": 84,
   "metadata": {
    "id": "zms12Yq5n-jE"
   },
   "outputs": [
    {
     "name": "stdout",
     "output_type": "stream",
     "text": [
      "🔸 Request id → 6745 unique values\n",
      "🔸 Pickup point → 2 unique values\n",
      "🔸 Driver id → 300 unique values\n",
      "🔸 Status → 3 unique values\n",
      "🔸 Request timestamp → 5618 unique values\n",
      "🔸 Drop timestamp → 2598 unique values\n"
     ]
    }
   ],
   "source": [
    "for col in df.columns:\n",
    "    unique_vals = df[col].nunique()\n",
    "    print(f\"🔸 {col} → {unique_vals} unique values\")\n",
    "\n",
    "   "
   ]
  },
  {
   "cell_type": "markdown",
   "metadata": {
    "id": "dauF4eBmngu3"
   },
   "source": [
    "## 3. ***Data Wrangling***"
   ]
  },
  {
   "cell_type": "markdown",
   "metadata": {
    "id": "bKJF3rekwFvQ"
   },
   "source": [
    "### 🔧 3. Data Wrangling\n",
    "\n",
    "In this step, we clean and transform the dataset to make it analysis-ready by:\n",
    "- Handling date/time columns\n",
    "- Removing duplicates\n",
    "- Handling missing values\n",
    "- Creating new derived features"
   ]
  },
  {
   "cell_type": "code",
   "execution_count": 85,
   "metadata": {
    "id": "wk-9a2fpoLcV"
   },
   "outputs": [
    {
     "data": {
      "text/html": [
       "<div>\n",
       "<style scoped>\n",
       "    .dataframe tbody tr th:only-of-type {\n",
       "        vertical-align: middle;\n",
       "    }\n",
       "\n",
       "    .dataframe tbody tr th {\n",
       "        vertical-align: top;\n",
       "    }\n",
       "\n",
       "    .dataframe thead th {\n",
       "        text-align: right;\n",
       "    }\n",
       "</style>\n",
       "<table border=\"1\" class=\"dataframe\">\n",
       "  <thead>\n",
       "    <tr style=\"text-align: right;\">\n",
       "      <th></th>\n",
       "      <th>Request id</th>\n",
       "      <th>Pickup point</th>\n",
       "      <th>Driver id</th>\n",
       "      <th>Status</th>\n",
       "      <th>Request timestamp</th>\n",
       "      <th>Drop timestamp</th>\n",
       "      <th>Request Hour</th>\n",
       "      <th>Request Day</th>\n",
       "      <th>Gap_Status</th>\n",
       "    </tr>\n",
       "  </thead>\n",
       "  <tbody>\n",
       "    <tr>\n",
       "      <th>0</th>\n",
       "      <td>619</td>\n",
       "      <td>Airport</td>\n",
       "      <td>1.0</td>\n",
       "      <td>Trip Completed</td>\n",
       "      <td>2016-07-11 11:51:00</td>\n",
       "      <td>2016-07-11 13:00:00</td>\n",
       "      <td>11</td>\n",
       "      <td>Monday</td>\n",
       "      <td>Fulfilled</td>\n",
       "    </tr>\n",
       "    <tr>\n",
       "      <th>1</th>\n",
       "      <td>867</td>\n",
       "      <td>Airport</td>\n",
       "      <td>1.0</td>\n",
       "      <td>Trip Completed</td>\n",
       "      <td>2016-07-11 17:57:00</td>\n",
       "      <td>2016-07-11 18:47:00</td>\n",
       "      <td>17</td>\n",
       "      <td>Monday</td>\n",
       "      <td>Fulfilled</td>\n",
       "    </tr>\n",
       "    <tr>\n",
       "      <th>2</th>\n",
       "      <td>1807</td>\n",
       "      <td>City</td>\n",
       "      <td>1.0</td>\n",
       "      <td>Trip Completed</td>\n",
       "      <td>2016-07-12 09:17:00</td>\n",
       "      <td>2016-07-12 09:58:00</td>\n",
       "      <td>9</td>\n",
       "      <td>Tuesday</td>\n",
       "      <td>Fulfilled</td>\n",
       "    </tr>\n",
       "    <tr>\n",
       "      <th>3</th>\n",
       "      <td>2532</td>\n",
       "      <td>Airport</td>\n",
       "      <td>1.0</td>\n",
       "      <td>Trip Completed</td>\n",
       "      <td>2016-07-12 21:08:00</td>\n",
       "      <td>2016-07-12 22:03:00</td>\n",
       "      <td>21</td>\n",
       "      <td>Tuesday</td>\n",
       "      <td>Fulfilled</td>\n",
       "    </tr>\n",
       "    <tr>\n",
       "      <th>4</th>\n",
       "      <td>267</td>\n",
       "      <td>City</td>\n",
       "      <td>2.0</td>\n",
       "      <td>Trip Completed</td>\n",
       "      <td>2016-07-11 06:46:00</td>\n",
       "      <td>2016-07-11 07:25:00</td>\n",
       "      <td>6</td>\n",
       "      <td>Monday</td>\n",
       "      <td>Fulfilled</td>\n",
       "    </tr>\n",
       "  </tbody>\n",
       "</table>\n",
       "</div>"
      ],
      "text/plain": [
       "   Request id Pickup point Driver id          Status   Request timestamp  \\\n",
       "0         619      Airport       1.0  Trip Completed 2016-07-11 11:51:00   \n",
       "1         867      Airport       1.0  Trip Completed 2016-07-11 17:57:00   \n",
       "2        1807         City       1.0  Trip Completed 2016-07-12 09:17:00   \n",
       "3        2532      Airport       1.0  Trip Completed 2016-07-12 21:08:00   \n",
       "4         267         City       2.0  Trip Completed 2016-07-11 06:46:00   \n",
       "\n",
       "       Drop timestamp  Request Hour Request Day Gap_Status  \n",
       "0 2016-07-11 13:00:00            11      Monday  Fulfilled  \n",
       "1 2016-07-11 18:47:00            17      Monday  Fulfilled  \n",
       "2 2016-07-12 09:58:00             9     Tuesday  Fulfilled  \n",
       "3 2016-07-12 22:03:00            21     Tuesday  Fulfilled  \n",
       "4 2016-07-11 07:25:00             6      Monday  Fulfilled  "
      ]
     },
     "execution_count": 85,
     "metadata": {},
     "output_type": "execute_result"
    }
   ],
   "source": [
    "# ✅ Convert date columns to proper datetime format\n",
    "df['Request timestamp'] = pd.to_datetime(df['Request timestamp'], dayfirst=True, errors='coerce')\n",
    "df['Drop timestamp'] = pd.to_datetime(df['Drop timestamp'], dayfirst=True, errors='coerce')\n",
    "\n",
    "# ✅ Remove duplicates\n",
    "df.drop_duplicates(inplace=True)\n",
    "\n",
    "# ✅ Remove rows with missing essential info\n",
    "df = df[df['Request timestamp'].notnull()]\n",
    "df = df[df['Pickup point'].notnull()]\n",
    "\n",
    "# ✅ Fill missing Driver ID with 'Unknown'\n",
    "df['Driver id'] = df['Driver id'].fillna(\"Unknown\")\n",
    "\n",
    "# ✅ Create derived columns\n",
    "df['Request Hour'] = df['Request timestamp'].dt.hour\n",
    "df['Request Day'] = df['Request timestamp'].dt.day_name()\n",
    "\n",
    "# ✅ Create new Gap_Status column based on trip Status\n",
    "df['Gap_Status'] = df['Status'].apply(lambda x: 'Gap' if x in ['Cancelled', 'No Cars Available'] else 'Fulfilled')\n",
    "\n",
    "# ✅ Reset index after wrangling\n",
    "df.reset_index(drop=True, inplace=True)\n",
    "\n",
    "# ✅ Check result\n",
    "df.head()\n"
   ]
  },
  {
   "cell_type": "markdown",
   "metadata": {
    "id": "MSa1f5Uengrz"
   },
   "source": [
    "### 🔧 What all manipulations have you done and insights you found?"
   ]
  },
  {
   "cell_type": "markdown",
   "metadata": {
    "id": "LbyXE7I1olp8"
   },
   "source": [
    "**Data Manipulations:**\n",
    "- Converted `Request timestamp` and `Drop timestamp` to datetime format\n",
    "- Removed duplicates and rows with missing timestamps or pickup points\n",
    "- Filled missing `Driver id` with \"Unknown\"\n",
    "- Created new columns:\n",
    "  - `Request Hour` – to analyze time-based demand\n",
    "  - `Request Day` – to analyze daily trends\n",
    "  - `Gap_Status` – to classify requests as `Fulfilled` or `Gap` (Cancelled / No Cars Available)\n",
    "\n",
    "**Key Insights Found:**\n",
    "- High number of ride requests during morning (5–10 AM) and evening (5–9 PM) hours\n",
    "- Most gaps occurred from the **Airport** during peak hours\n",
    "- **\"No Cars Available\"** is the major reason for trip failure, more than cancellations\n",
    "- Demand is much higher than supply during specific hours, causing service gaps\n"
   ]
  },
  {
   "cell_type": "markdown",
   "metadata": {
    "id": "GF8Ens_Soomf"
   },
   "source": [
    "## ***4. Data Vizualization, Storytelling & Experimenting with charts : Understand the relationships between variables***"
   ]
  },
  {
   "cell_type": "markdown",
   "metadata": {
    "id": "0wOQAZs5pc--"
   },
   "source": [
    "### Chart 1: Trip Status Distribution\n",
    "\n",
    "This chart shows how ride requests ended — whether the trip was completed, cancelled, or failed due to no cars being available. It helps us understand how big the supply-demand gap is.\n"
   ]
  },
  {
   "cell_type": "code",
   "execution_count": 86,
   "metadata": {
    "id": "7v_ESjsspbW7"
   },
   "outputs": [
    {
     "data": {
      "image/png": "[encoded data removed]",
      "text/plain": [
       "<Figure size 800x500 with 1 Axes>"
      ]
     },
     "metadata": {},
     "output_type": "display_data"
    }
   ],
   "source": [
    "# Chart 1 - Trip Status Count\n",
    "\n",
    "plt.figure(figsize=(8,5))\n",
    "sns.countplot(data=df, x='Status', hue='Status', palette='Set2', legend=False)\n",
    "plt.title(\"Trip Status Distribution\", fontsize=14)\n",
    "plt.xlabel(\"Trip Status\")\n",
    "plt.ylabel(\"Number of Requests\")\n",
    "plt.xticks(rotation=0)\n",
    "plt.show()\n",
    "\n"
   ]
  },
  {
   "cell_type": "markdown",
   "metadata": {
    "id": "XESiWehPqBRc"
   },
   "source": [
    "1. **Why did you pick the specific chart?**  \n",
    "I selected a countplot to visualize the distribution of trip statuses because it effectively shows the frequency of each category (`Trip Completed`, `Cancelled`, and `No Cars Available`) in a single, easy-to-read chart.\n",
    "\n",
    "2. **What is/are the insight(s) found from the chart?**  \n",
    "The majority of failed trips are due to \"No Cars Available\", not cancellations. This indicates a supply shortage rather than customer behavior issues. It also shows that a large portion of user demand is unmet.\n",
    "\n",
    "3. **Will the gained insights help create a positive business impact? Are there any insights that lead to negative growth? Justify with specific reason.**  \n",
    "Yes, the insights will help create a positive business impact by identifying that driver unavailability is a key operational bottleneck.  \n",
    "However, the insight also highlights a **negative growth risk** — if customers repeatedly face unavailability, they may shift to competitors. This calls for urgent intervention in driver deployment during peak hours and better supply forecasting.\n"
   ]
  },
  {
   "cell_type": "markdown",
   "metadata": {
    "id": "KSlN3yHqYklG"
   },
   "source": [
    "# Chart 2 - Pickup Point Distribution"
   ]
  },
  {
   "cell_type": "code",
   "execution_count": 87,
   "metadata": {
    "id": "R4YgtaqtYklH"
   },
   "outputs": [
    {
     "data": {
      "image/png": "[encoded data removed]",
      "text/plain": [
       "<Figure size 800x500 with 1 Axes>"
      ]
     },
     "metadata": {},
     "output_type": "display_data"
    }
   ],
   "source": [
    "\n",
    "# Chart 2 - Pickup Point Distribution\n",
    "plt.figure(figsize=(8,5))\n",
    "sns.countplot(data=df, x='Pickup point', hue='Pickup point', palette='pastel', legend=False)\n",
    "plt.title(\"Pickup Point Distribution\", fontsize=14)\n",
    "plt.xlabel(\"Pickup Point\")\n",
    "plt.ylabel(\"Number of Requests\")\n",
    "plt.xticks(rotation=0)\n",
    "plt.show()\n"
   ]
  },
  {
   "cell_type": "markdown",
   "metadata": {
    "id": "t6dVpIINYklI"
   },
   "source": [
    "1. **Why did you pick the specific chart?**  \n",
    "I chose a countplot to visualize the number of ride requests by pickup point because it provides a simple comparison between the two main locations: City and Airport. It clearly shows where demand is higher.\n",
    "\n",
    "2. **What is/are the insight(s) found from the chart?**  \n",
    "The chart shows that a larger number of requests come from the Airport compared to the City. This indicates that the Airport is a more critical location in terms of handling demand.\n",
    "\n",
    "3. **Will the gained insights help creating a positive business impact? Are there any insights that lead to negative growth? Justify with specific reason.**  \n",
    "Yes, the insight helps Uber identify the Airport as a high-demand zone, allowing better planning of driver allocation.  \n",
    "If not addressed, consistently high demand with low supply at the Airport may lead to **negative customer experience**, affecting loyalty and causing users to switch platforms.\n"
   ]
  },
  {
   "cell_type": "markdown",
   "metadata": {
    "id": "EM7whBJCYoAo"
   },
   "source": [
    "### Chart 3: Supply vs Demand by Hour\n",
    "\n",
    "This chart compares the total ride requests (Demand) with successfully fulfilled trips (Supply) across each hour of the day. It helps identify when the supply-demand gap is highest.\n"
   ]
  },
  {
   "cell_type": "code",
   "execution_count": 88,
   "metadata": {
    "id": "t6GMdE67YoAp"
   },
   "outputs": [
    {
     "data": {
      "image/png": "[encoded data removed]",
      "text/plain": [
       "<Figure size 1200x600 with 1 Axes>"
      ]
     },
     "metadata": {},
     "output_type": "display_data"
    }
   ],
   "source": [
    "# Chart 3 - Supply vs Demand by Hour\n",
    "\n",
    "# Prepare grouped data\n",
    "hourly_demand = df.groupby('Request Hour').size()\n",
    "hourly_supply = df[df['Gap_Status'] == 'Fulfilled'].groupby('Request Hour').size()\n",
    "\n",
    "# Combine into one DataFrame\n",
    "supply_demand_df = pd.DataFrame({\n",
    "    'Total Requests (Demand)': hourly_demand,\n",
    "    'Fulfilled Requests (Supply)': hourly_supply\n",
    "}).fillna(0)\n",
    "\n",
    "# Plot the chart\n",
    "supply_demand_df.plot(kind='bar', figsize=(12,6), color=['skyblue', 'orange'])\n",
    "plt.title(\"Supply vs Demand by Hour\", fontsize=16)\n",
    "plt.xlabel(\"Hour of Day\")\n",
    "plt.ylabel(\"Number of Requests\")\n",
    "plt.xticks(rotation=0)\n",
    "plt.grid(axis='y')\n",
    "plt.tight_layout()\n",
    "plt.show()\n"
   ]
  },
  {
   "cell_type": "markdown",
   "metadata": {
    "id": "fge-S5ZAYoAp"
   },
   "source": [
    "1. **Why did you pick the specific chart?**  \n",
    "Bar chart allows us to clearly compare demand vs supply side-by-side for each hour of the day.\n",
    "\n",
    "2. **What is/are the insight(s) found from the chart?**  \n",
    "There is a large supply-demand gap during peak commute hours (both morning and evening). This confirms operational inefficiency.\n",
    "\n",
    "3. **Will the gained insights help create a positive business impact?**  \n",
    "Yes. Uber can optimize driver allocation during peak hours to reduce failed trips. Not solving this may lead to lost revenue and poor user experience.\n"
   ]
  },
  {
   "cell_type": "markdown",
   "metadata": {
    "id": "5dBItgRVYoAp"
   },
   "source": [
    "### 🔍 Insight:\n",
    "- A major gap is observed during morning (5–10 AM) and evening (5–9 PM) hours.\n",
    "- Demand during these hours is high, but fulfilled trips are much lower.\n",
    "- These peak-hour supply shortages highlight the need for better driver availability and fleet planning.\n"
   ]
  },
  {
   "cell_type": "markdown",
   "metadata": {
    "id": "4Of9eVA-YrdM"
   },
   "source": [
    "### Chart 4: Hourly Demand Gap Percentage\n",
    "\n",
    "This chart shows the percentage of unfulfilled ride requests (Cancelled + No Cars Available) for each hour of the day. It highlights the severity of supply issues during specific time blocks.\n"
   ]
  },
  {
   "cell_type": "code",
   "execution_count": 89,
   "metadata": {
    "id": "irlUoxc8YrdO"
   },
   "outputs": [
    {
     "data": {
      "image/png": "[encoded data removed]",
      "text/plain": [
       "<Figure size 1200x600 with 1 Axes>"
      ]
     },
     "metadata": {},
     "output_type": "display_data"
    }
   ],
   "source": [
    "plt.figure(figsize=(12,6))\n",
    "\n",
    "# Use a single color for focus and clarity\n",
    "sns.barplot(\n",
    "    x=gap_percentage.index,\n",
    "    y=gap_percentage.values,\n",
    "    color='tomato'  # solid red-orange color\n",
    ")\n",
    "\n",
    "# Add data labels on top of bars\n",
    "for i, val in enumerate(gap_percentage.values):\n",
    "    plt.text(i, val + 1, f'{val:.1f}%', ha='center', va='bottom', fontsize=9, fontweight='bold')\n",
    "\n",
    "# Styling\n",
    "plt.title(\"Hourly Demand Gap Percentage\", fontsize=16, fontweight='bold')\n",
    "plt.xlabel(\"Hour of Day\")\n",
    "plt.ylabel(\"Gap % (Unfulfilled Requests)\", fontsize=12)\n",
    "plt.ylim(0, 100)\n",
    "plt.xticks(rotation=0)\n",
    "plt.grid(axis='y', linestyle='--', alpha=0.7)\n",
    "plt.tight_layout()\n",
    "plt.show()\n"
   ]
  },
  {
   "cell_type": "markdown",
   "metadata": {
    "id": "iky9q4vBYrdO"
   },
   "source": [
    "1. **Why did you pick the specific chart?**  \n",
    "This bar chart clearly shows the percentage of unfulfilled ride requests (gaps) for each hour. A percentage-based view helps highlight the severity of the supply issue, not just the volume of requests.\n",
    "\n",
    "2. **What is/are the insight(s) found from the chart?**  \n",
    "The gap percentage is highest during peak hours — especially between 5–9 AM and 5–10 PM. In these time slots, more than 60% of requests go unfulfilled. This indicates serious driver unavailability when demand is at its peak.\n",
    "\n",
    "3. **Will the gained insights help creating a positive business impact? Are there any insights that lead to negative growth? Justify with specific reason.**  \n",
    "Yes, this insight helps Uber optimize operations by targeting peak hours with high gap %. Uber can deploy more drivers, introduce surge pricing, or offer driver incentives during these time slots.  \n",
    "However, if ignored, these high gap periods could lead to negative growth — customers facing repeated unavailability may switch to competitors, hurting Uber’s reputation and retention.\n"
   ]
  },
  {
   "cell_type": "markdown",
   "metadata": {
    "id": "jLNxxz7MYrdP"
   },
   "source": [
    "### 📌 Insights from Hourly Demand Gap % Chart:\n",
    "\n",
    "- 🔺 The highest gap percentages occur during **5–9 AM** and **5–10 PM**, which are typical office commute hours.\n",
    "- ⏱️ At certain hours (like 7–9 AM), **more than 60%** of requests go unfulfilled — a major red flag for operations.\n",
    "- 🔻 Midday and late-night hours have significantly lower gap percentages, indicating better balance between supply and demand.\n",
    "- 🧠 This confirms that **Uber is not meeting demand when it's needed most**, despite having the data to predict it.\n"
   ]
  },
  {
   "cell_type": "markdown",
   "metadata": {
    "id": "bamQiAODYuh1"
   },
   "source": [
    "# Chart 5: Hourly Breakdown of Request Status\n"
   ]
  },
  {
   "cell_type": "code",
   "execution_count": 90,
   "metadata": {
    "id": "TIJwrbroYuh3"
   },
   "outputs": [
    {
     "data": {
      "text/plain": [
       "<Figure size 1400x600 with 0 Axes>"
      ]
     },
     "metadata": {},
     "output_type": "display_data"
    },
    {
     "data": {
      "image/png": "[encoded data removed]",
      "text/plain": [
       "<Figure size 1400x600 with 1 Axes>"
      ]
     },
     "metadata": {},
     "output_type": "display_data"
    }
   ],
   "source": [
    "# Chart: Hourly Breakdown of Trip Status (Stacked Bar Chart)\n",
    "\n",
    "# Step 1: Group by hour and status\n",
    "status_by_hour = df.groupby(['Request Hour', 'Status']).size().unstack().fillna(0)\n",
    "\n",
    "# Step 2: Plot stacked bar chart\n",
    "plt.figure(figsize=(14,6))\n",
    "status_by_hour.plot(kind='bar', stacked=True, colormap='Set3', figsize=(14,6))\n",
    "\n",
    "# Styling\n",
    "plt.title(\"Hourly Trip Status Breakdown\", fontsize=16, fontweight='bold')\n",
    "plt.xlabel(\"Hour of Day\", fontsize=12)\n",
    "plt.ylabel(\"Number of Requests\", fontsize=12)\n",
    "plt.legend(title='Trip Status')\n",
    "plt.xticks(rotation=0)\n",
    "plt.grid(axis='y', linestyle='--', alpha=0.7)  # ✅ FIXED line\n",
    "plt.tight_layout()\n",
    "plt.show()\n"
   ]
  },
  {
   "cell_type": "markdown",
   "metadata": {
    "id": "QHF8YVU7Yuh3"
   },
   "source": [
    "1. **Why did you pick the specific chart?**  \n",
    "This stacked bar chart was chosen because it allows us to visualize all request outcomes (Trip Completed, Cancelled, No Cars Available) for each hour in one place. It helps us analyze supply behavior throughout the day and detect patterns that are not visible in simple count plots.\n",
    "\n",
    "2. **What is/are the insight(s) found from the chart?**  \n",
    "- The chart reveals that during **5–9 AM** and **5–10 PM**, the number of unfulfilled requests (especially due to **No Cars Available**) is significantly high.\n",
    "- The **Trip Completed** segment is low in these peak hours, highlighting a **severe supply shortage**.\n",
    "- Conversely, during **midday and late-night hours**, the majority of requests are fulfilled, and fewer gaps occur.\n",
    "\n",
    "3. **Will the gained insights help creating a positive business impact? Are there any insights that lead to negative growth? Justify with specific reason.**  \n",
    "Yes, these insights can guide Uber to:\n",
    "- Redistribute driver supply to cover peak hours more efficiently\n",
    "- Introduce surge pricing or driver incentives during high-gap time slots\n",
    "- Avoid customer churn caused by frequent unavailability\n",
    "\n",
    "If these supply gaps are not addressed, they may lead to **negative business impact**, as customers facing repeated failed bookings may switch to competitors like Ola or Rapido — affecting Uber’s brand trust and customer retention.\n"
   ]
  },
  {
   "cell_type": "code",
   "execution_count": 91,
   "metadata": {
    "id": "xyC9zolEZNRQ"
   },
   "outputs": [
    {
     "data": {
      "image/png": "[encoded data removed]",
      "text/plain": [
       "<Figure size 1000x600 with 2 Axes>"
      ]
     },
     "metadata": {},
     "output_type": "display_data"
    }
   ],
   "source": [
    "# 🔥 Correlation Heatmap for numerical variables\n",
    "\n",
    "import seaborn as sns\n",
    "import matplotlib.pyplot as plt\n",
    "\n",
    "# Select only numeric columns\n",
    "numeric_df = df.select_dtypes(include='number')\n",
    "\n",
    "# Compute correlation matrix\n",
    "correlation_matrix = numeric_df.corr()\n",
    "\n",
    "# Plot heatmap\n",
    "plt.figure(figsize=(10,6))\n",
    "sns.heatmap(correlation_matrix, annot=True, cmap='coolwarm', linewidths=0.5, linecolor='white')\n",
    "plt.title(\"Correlation Heatmap of Numerical Features\", fontsize=14, fontweight='bold')\n",
    "plt.tight_layout()\n",
    "plt.show()\n"
   ]
  },
  {
   "cell_type": "markdown",
   "metadata": {
    "id": "JcMwzZxoAimU"
   },
   "source": [
    "## **5. Solution to Business Objective**"
   ]
  },
  {
   "cell_type": "markdown",
   "metadata": {
    "id": "8G2x9gOozGDZ"
   },
   "source": [
    "To address the supply-demand gap and achieve Uber’s business objective of improving ride fulfillment rates, I recommend the following actionable solutions:\n",
    "\n",
    "1. **Peak Hour Driver Allocation**  \n",
    "   Deploy more drivers during high-demand hours (5–9 AM and 5–10 PM) by using predictive scheduling based on historical request data.\n",
    "\n",
    "2. **Driver Incentive Programs**  \n",
    "   Introduce time-slot-based incentives for drivers to be available during peak hours, especially near the Airport.\n",
    "\n",
    "3. **Dynamic Surge Pricing Strategy**  \n",
    "   Use dynamic pricing more aggressively during demand surges to balance supply and discourage unnecessary requests.\n",
    "\n",
    "4. **Geo-Specific Fleet Planning**  \n",
    "   Since the Airport has consistently higher unfulfilled requests, allocate a dedicated fleet or pre-scheduled system for airport pickups.\n",
    "\n",
    "5. **Customer Communication Improvements**  \n",
    "   Notify users in advance about expected delays during high-gap times and offer alternatives or discounts to reduce cancellations.\n",
    "\n",
    "By implementing these strategies, Uber can reduce its unmet demand, improve customer satisfaction, and optimize driver utilization — directly addressing the core business challenge.\n"
   ]
  },
  {
   "cell_type": "markdown",
   "metadata": {
    "id": "gCX9965dhzqZ"
   },
   "source": [
    "# **Conclusion**"
   ]
  },
  {
   "cell_type": "markdown",
   "metadata": {
    "id": "Fjb1IsQkh3yE"
   },
   "source": [
    "This project successfully analyzed the Uber ride request dataset to identify and understand the supply-demand gap problem. Through detailed data cleaning, feature engineering, and visual analysis, we found that:\n",
    "\n",
    "- A significant number of ride requests remain unfulfilled during peak hours (especially 5–9 AM and 5–10 PM).\n",
    "- \"No Cars Available\" was the leading cause of failed trips, indicating a supply-side issue rather than user cancellations.\n",
    "- The Airport pickup point faced a higher concentration of demand gaps compared to the City.\n",
    "\n",
    "By identifying critical time slots and locations contributing to operational inefficiencies, we proposed data-driven solutions to help Uber optimize driver allocation, reduce demand gaps, and enhance customer experience.\n",
    "\n",
    "This analysis not only supports the business objective but also demonstrates how data storytelling can drive impactful decisions in real-world scenarios.\n"
   ]
  },
  {
   "cell_type": "markdown",
   "metadata": {
    "id": "gIfDvo9L0UH2"
   },
   "source": [
    "### ***Hurrah! You have successfully completed your EDA Capstone Project !!!***"
   ]
  }
 ],
 "metadata": {
  "colab": {
   "collapsed_sections": [
    "vncDsAP0Gaoa",
    "FJNUwmbgGyua",
    "w6K7xa23Elo4",
    "yQaldy8SH6Dl",
    "PH-0ReGfmX4f",
    "mDgbUHAGgjLW",
    "O_i_v8NEhb9l",
    "HhfV-JJviCcP",
    "Y3lxredqlCYt",
    "3RnN4peoiCZX",
    "x71ZqKXriCWQ",
    "7hBIi_osiCS2",
    "JlHwYmJAmNHm",
    "35m5QtbWiB9F",
    "PoPl-ycgm1ru",
    "H0kj-8xxnORC",
    "nA9Y7ga8ng1Z",
    "PBTbrJXOngz2",
    "u3PMJOP6ngxN",
    "dauF4eBmngu3",
    "bKJF3rekwFvQ",
    "MSa1f5Uengrz",
    "GF8Ens_Soomf",
    "0wOQAZs5pc--",
    "K5QZ13OEpz2H",
    "lQ7QKXXCp7Bj",
    "448CDAPjqfQr",
    "KSlN3yHqYklG",
    "t6dVpIINYklI",
    "ijmpgYnKYklI",
    "-JiQyfWJYklI",
    "EM7whBJCYoAo",
    "fge-S5ZAYoAp",
    "85gYPyotYoAp",
    "RoGjAbkUYoAp",
    "4Of9eVA-YrdM",
    "iky9q4vBYrdO",
    "F6T5p64dYrdO",
    "y-Ehk30pYrdP",
    "bamQiAODYuh1",
    "QHF8YVU7Yuh3",
    "GwzvFGzlYuh3",
    "qYpmQ266Yuh3",
    "OH-pJp9IphqM",
    "bbFf2-_FphqN",
    "_ouA3fa0phqN",
    "Seke61FWphqN",
    "PIIx-8_IphqN",
    "t27r6nlMphqO",
    "r2jJGEOYphqO",
    "b0JNsNcRphqO",
    "BZR9WyysphqO",
    "jj7wYXLtphqO",
    "eZrbJ2SmphqO",
    "rFu4xreNphqO",
    "YJ55k-q6phqO",
    "gCFgpxoyphqP",
    "OVtJsKN_phqQ",
    "lssrdh5qphqQ",
    "U2RJ9gkRphqQ",
    "1M8mcRywphqQ",
    "tgIPom80phqQ",
    "JMzcOPDDphqR",
    "x-EpHcCOp1ci",
    "X_VqEhTip1ck",
    "8zGJKyg5p1ck",
    "PVzmfK_Ep1ck",
    "n3dbpmDWp1ck",
    "ylSl6qgtp1ck",
    "ZWILFDl5p1ck",
    "M7G43BXep1ck",
    "Ag9LCva-p1cl",
    "E6MkPsBcp1cl",
    "2cELzS2fp1cl",
    "3MPXvC8up1cl",
    "NC_X3p0fY2L0",
    "UV0SzAkaZNRQ",
    "YPEH6qLeZNRQ",
    "q29F0dvdveiT",
    "EXh0U9oCveiU",
    "22aHeOlLveiV",
    "JcMwzZxoAimU",
    "8G2x9gOozGDZ",
    "gCX9965dhzqZ",
    "gIfDvo9L0UH2"
   ],
   "private_outputs": true,
   "provenance": []
  },
  "kernelspec": {
   "display_name": "Python 3 (ipykernel)",
   "language": "python",
   "name": "python3"
  },
  "language_info": {
   "codemirror_mode": {
    "name": "ipython",
    "version": 3
   },
   "file_extension": ".py",
   "mimetype": "text/x-python",
   "name": "python",
   "nbconvert_exporter": "python",
   "pygments_lexer": "ipython3",
   "version": "3.13.5"
  }
 },
 "nbformat": 4,
 "nbformat_minor": 4
}
